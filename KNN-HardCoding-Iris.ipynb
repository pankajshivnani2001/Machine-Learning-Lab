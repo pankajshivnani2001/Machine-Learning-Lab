{
 "cells": [
  {
   "cell_type": "code",
   "execution_count": 36,
   "id": "e5ce55ab",
   "metadata": {},
   "outputs": [],
   "source": [
    "import pandas as pd\n",
    "from sklearn import datasets\n",
    "\n",
    "iris = datasets.load_iris()\n",
    "X = iris.data\n",
    "Y = iris.target"
   ]
  },
  {
   "cell_type": "code",
   "execution_count": 37,
   "id": "2324242d",
   "metadata": {},
   "outputs": [],
   "source": [
    "def findDistance(train_dimension, dimension):\n",
    "    squared_sum = 0\n",
    "    for i in range(len(dimension)):\n",
    "        squared_sum += (dimension[i] - train_dimension[i]) ** 2;\n",
    "        \n",
    "    return squared_sum ** 0.5\n",
    "\n",
    "\n",
    "def predict(X, Y, dimension, K):\n",
    "    dist = []\n",
    "    label = []\n",
    "    for i in range(len(X)):\n",
    "        train_dimension = X[i];\n",
    "        dist.append(findDistance(train_dimension, dimension))\n",
    "        label.append(Y[i])\n",
    "    \n",
    "    predictions = []\n",
    "    for i in range(K):\n",
    "        min_dist = min(dist)\n",
    "        min_dist_idx = dist.index(min_dist)\n",
    "        min_dist_label = label[min_dist_idx]\n",
    "        dist.remove(min_dist)\n",
    "        label.remove(min_dist_label)\n",
    "        \n",
    "        predictions.append(min_dist_label)\n",
    "        \n",
    "    return((int(sum(predictions))))"
   ]
  },
  {
   "cell_type": "code",
   "execution_count": null,
   "id": "c0aeef6d",
   "metadata": {},
   "outputs": [],
   "source": []
  }
 ],
 "metadata": {
  "kernelspec": {
   "display_name": "Python 3 (ipykernel)",
   "language": "python",
   "name": "python3"
  },
  "language_info": {
   "codemirror_mode": {
    "name": "ipython",
    "version": 3
   },
   "file_extension": ".py",
   "mimetype": "text/x-python",
   "name": "python",
   "nbconvert_exporter": "python",
   "pygments_lexer": "ipython3",
   "version": "3.7.4"
  }
 },
 "nbformat": 4,
 "nbformat_minor": 5
}
