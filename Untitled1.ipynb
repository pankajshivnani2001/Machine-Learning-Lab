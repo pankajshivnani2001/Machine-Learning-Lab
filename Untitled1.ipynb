{
 "cells": [
  {
   "cell_type": "code",
   "execution_count": 103,
   "id": "30e71720",
   "metadata": {},
   "outputs": [],
   "source": [
    "import numpy as np\n",
    "import matplotlib.pyplot as plt"
   ]
  },
  {
   "cell_type": "code",
   "execution_count": 104,
   "id": "61cc84b5",
   "metadata": {},
   "outputs": [
    {
     "data": {
      "image/png": "[encoded data removed]",
      "text/plain": [
       "<Figure size 432x288 with 1 Axes>"
      ]
     },
     "metadata": {
      "needs_background": "light"
     },
     "output_type": "display_data"
    }
   ],
   "source": [
    "X= -2 * np.random.rand(100,2)\n",
    "X1 = 1 + 2 * np.random.rand(50,2)\n",
    "X[50:100, :] = X1\n",
    "plt.scatter(X[ : , 0], X[ :, 1], s = 50, c = \"b\")\n",
    "plt.show()"
   ]
  },
  {
   "cell_type": "code",
   "execution_count": 105,
   "id": "2f68c716",
   "metadata": {},
   "outputs": [],
   "source": [
    "def euclidean_dist(point, center):\n",
    "    dist = 0\n",
    "    for i in range(len(point)):\n",
    "        dist += (point[i] - center[i])**2\n",
    "        \n",
    "    return dist ** 0.5\n",
    "\n",
    "\n",
    "def all_distance(X, centers):\n",
    "    distances = []\n",
    "    for point in X:\n",
    "        dist = []\n",
    "        for center in centers:\n",
    "            dist.append(euclidean_dist(point, center))\n",
    "        distances.append(dist)\n",
    "    return distances\n",
    "        "
   ]
  },
  {
   "cell_type": "code",
   "execution_count": 106,
   "id": "3662a070",
   "metadata": {},
   "outputs": [],
   "source": [
    "def kmeans(X, k):\n",
    "    # init centers\n",
    "    n = X.shape[0]\n",
    "    centers = X[np.random.choice(n, k, replace=False)]    \n",
    "    closest = np.zeros(n).astype(int)\n",
    "    \n",
    "    while True:\n",
    "        old_closest = closest.copy()\n",
    "        \n",
    "        #  update cluster membership\n",
    "        distances = all_distance(X, centers)\n",
    "        #print(distances)\n",
    "        closest = np.argmin(distances, axis=1)\n",
    "        \n",
    "        #  update centers\n",
    "        for i in range(k):\n",
    "            centers[i, :] = X[closest == i].mean(axis=0)\n",
    "            \n",
    "        # break if converged\n",
    "        if all(closest == old_closest):\n",
    "            break\n",
    "            \n",
    "    return closest, centers\n"
   ]
  },
  {
   "cell_type": "code",
   "execution_count": 107,
   "id": "86666c35",
   "metadata": {},
   "outputs": [
    {
     "name": "stdout",
     "output_type": "stream",
     "text": [
      "[0 0 0 0 0 0 0 0 0 0 0 0 0 0 0 0 0 0 0 0 0 0 0 0 0 0 0 0 0 0 0 0 0 0 0 0 0\n",
      " 0 0 0 0 0 0 0 0 0 0 0 0 0 1 1 1 1 1 1 1 1 1 1 1 1 1 1 1 1 1 1 1 1 1 1 1 1\n",
      " 1 1 1 1 1 1 1 1 1 1 1 1 1 1 1 1 1 1 1 1 1 1 1 1 1 1]\n",
      "[[-0.86019497 -0.98103762]\n",
      " [ 2.13753919  2.03465801]]\n"
     ]
    }
   ],
   "source": [
    "labels, centers = kmeans(X, 2)\n",
    "print(labels)\n",
    "print(centers)"
   ]
  },
  {
   "cell_type": "code",
   "execution_count": 108,
   "id": "6db16739",
   "metadata": {},
   "outputs": [
    {
     "data": {
      "text/plain": [
       "<matplotlib.collections.PathCollection at 0x1a12ab54548>"
      ]
     },
     "execution_count": 108,
     "metadata": {},
     "output_type": "execute_result"
    },
    {
     "data": {
      "image/png": "[encoded data removed]",
      "text/plain": [
       "<Figure size 432x288 with 1 Axes>"
      ]
     },
     "metadata": {
      "needs_background": "light"
     },
     "output_type": "display_data"
    }
   ],
   "source": [
    "cluster1X = []\n",
    "cluster1Y = []\n",
    "cluster2X = []\n",
    "cluster2Y = []\n",
    "\n",
    "for i in range(len(X)):\n",
    "    if(labels[i] == 0):\n",
    "        cluster1X.append(X[i][0])\n",
    "        cluster1Y.append(X[i][1])\n",
    "    if(labels[i] == 1):\n",
    "        cluster2X.append(X[i][0])\n",
    "        cluster2Y.append(X[i][1])\n",
    "        \n",
    "plt.scatter(cluster1X, cluster1Y, color=\"red\")\n",
    "plt.scatter(cluster2X, cluster2Y, color=\"green\")\n",
    "\n",
    "plt.scatter(centers[0][0], centers[0][1], color=\"yellow\", s=200)\n",
    "plt.scatter(centers[1][0], centers[1][1], color=\"yellow\", s=200)"
   ]
  },
  {
   "cell_type": "code",
   "execution_count": null,
   "id": "c770840e",
   "metadata": {},
   "outputs": [],
   "source": []
  },
  {
   "cell_type": "code",
   "execution_count": null,
   "id": "d9442f7a",
   "metadata": {},
   "outputs": [],
   "source": []
  }
 ],
 "metadata": {
  "kernelspec": {
   "display_name": "Python 3 (ipykernel)",
   "language": "python",
   "name": "python3"
  },
  "language_info": {
   "codemirror_mode": {
    "name": "ipython",
    "version": 3
   },
   "file_extension": ".py",
   "mimetype": "text/x-python",
   "name": "python",
   "nbconvert_exporter": "python",
   "pygments_lexer": "ipython3",
   "version": "3.7.4"
  }
 },
 "nbformat": 4,
 "nbformat_minor": 5
}
