{
 "cells": [
  {
   "cell_type": "code",
   "execution_count": 82,
   "id": "20319789",
   "metadata": {},
   "outputs": [],
   "source": [
    "import pandas as pd\n",
    "import numpy as np"
   ]
  },
  {
   "cell_type": "code",
   "execution_count": 83,
   "id": "a8550a59",
   "metadata": {},
   "outputs": [
    {
     "data": {
      "text/html": [
       "<div>\n",
       "<style scoped>\n",
       "    .dataframe tbody tr th:only-of-type {\n",
       "        vertical-align: middle;\n",
       "    }\n",
       "\n",
       "    .dataframe tbody tr th {\n",
       "        vertical-align: top;\n",
       "    }\n",
       "\n",
       "    .dataframe thead th {\n",
       "        text-align: right;\n",
       "    }\n",
       "</style>\n",
       "<table border=\"1\" class=\"dataframe\">\n",
       "  <thead>\n",
       "    <tr style=\"text-align: right;\">\n",
       "      <th></th>\n",
       "      <th>person</th>\n",
       "      <th>hair_color</th>\n",
       "      <th>eye_color</th>\n",
       "      <th>skin_color</th>\n",
       "    </tr>\n",
       "  </thead>\n",
       "  <tbody>\n",
       "    <tr>\n",
       "      <th>0</th>\n",
       "      <td>P1</td>\n",
       "      <td>blonde</td>\n",
       "      <td>amber</td>\n",
       "      <td>fair</td>\n",
       "    </tr>\n",
       "    <tr>\n",
       "      <th>1</th>\n",
       "      <td>P2</td>\n",
       "      <td>brunette</td>\n",
       "      <td>gray</td>\n",
       "      <td>brown</td>\n",
       "    </tr>\n",
       "    <tr>\n",
       "      <th>2</th>\n",
       "      <td>P3</td>\n",
       "      <td>red</td>\n",
       "      <td>green</td>\n",
       "      <td>brown</td>\n",
       "    </tr>\n",
       "    <tr>\n",
       "      <th>3</th>\n",
       "      <td>P4</td>\n",
       "      <td>black</td>\n",
       "      <td>hazel</td>\n",
       "      <td>brown</td>\n",
       "    </tr>\n",
       "    <tr>\n",
       "      <th>4</th>\n",
       "      <td>P5</td>\n",
       "      <td>brunette</td>\n",
       "      <td>amber</td>\n",
       "      <td>fair</td>\n",
       "    </tr>\n",
       "    <tr>\n",
       "      <th>5</th>\n",
       "      <td>P6</td>\n",
       "      <td>black</td>\n",
       "      <td>gray</td>\n",
       "      <td>brown</td>\n",
       "    </tr>\n",
       "    <tr>\n",
       "      <th>6</th>\n",
       "      <td>P7</td>\n",
       "      <td>red</td>\n",
       "      <td>green</td>\n",
       "      <td>fair</td>\n",
       "    </tr>\n",
       "    <tr>\n",
       "      <th>7</th>\n",
       "      <td>P8</td>\n",
       "      <td>black</td>\n",
       "      <td>hazel</td>\n",
       "      <td>fair</td>\n",
       "    </tr>\n",
       "  </tbody>\n",
       "</table>\n",
       "</div>"
      ],
      "text/plain": [
       "  person hair_color eye_color skin_color\n",
       "0     P1     blonde     amber       fair\n",
       "1     P2   brunette      gray      brown\n",
       "2     P3        red     green      brown\n",
       "3     P4      black     hazel      brown\n",
       "4     P5   brunette     amber       fair\n",
       "5     P6      black      gray      brown\n",
       "6     P7        red     green       fair\n",
       "7     P8      black     hazel       fair"
      ]
     },
     "execution_count": 83,
     "metadata": {},
     "output_type": "execute_result"
    }
   ],
   "source": [
    "hair_color = np.array(['blonde', 'brunette', 'red', 'black', 'brunette', 'black', 'red', 'black'])\n",
    "eye_color = np.array(['amber', 'gray', 'green', 'hazel', 'amber', 'gray', 'green', 'hazel'])\n",
    "skin_color = np.array(['fair', 'brown', 'brown', 'brown', 'fair', 'brown', 'fair', 'fair'])\n",
    "person = ['P1','P2','P3','P4','P5','P6','P7','P8']\n",
    "data = pd.DataFrame({'person':person, 'hair_color':hair_color, 'eye_color':eye_color, 'skin_color':skin_color})\n",
    "data"
   ]
  },
  {
   "cell_type": "code",
   "execution_count": 84,
   "id": "346ea49b",
   "metadata": {},
   "outputs": [],
   "source": [
    "def find_distance(cluster, point):\n",
    "    dist = 0\n",
    "    for i in range(len(cluster)):\n",
    "        if cluster[i] != point[i]:\n",
    "            dist += 1\n",
    "    return dist\n",
    "\n",
    "def find_closest_cluster(point, clusters):\n",
    "    distances = []\n",
    "    for cluster in clusters:\n",
    "        distances.append(find_distance(cluster, point))\n",
    "    return distances.index(min(distances))\n",
    "\n",
    "\n",
    "def find_mode(points):\n",
    "    \n",
    "    new_cluster = []\n",
    "    for i in range(len(points[0])):\n",
    "        freq_map = {}\n",
    "        for j in range(len(points)):\n",
    "            if points[j][i] in freq_map:\n",
    "                freq_map[points[j][i]] += 1\n",
    "            else:\n",
    "                freq_map[points[j][i]] = 1\n",
    "        \n",
    "        new_cluster.append(max(freq_map, key = freq_map.get))  \n",
    "        \n",
    "    return new_cluster\n",
    "            \n",
    "    \n",
    "   "
   ]
  },
  {
   "cell_type": "code",
   "execution_count": 85,
   "id": "c46375ee",
   "metadata": {},
   "outputs": [],
   "source": [
    "cluster1 = data.loc[data[\"person\"] == \"P1\"]\n",
    "cluster2 = data.loc[data[\"person\"] == \"P7\"]\n",
    "cluster3 = data.loc[data[\"person\"] == \"P8\"]\n",
    "\n",
    "cluster1 = cluster1.drop(\"person\", axis = 1).values.flatten().tolist()\n",
    "cluster2 = cluster2.drop(\"person\", axis = 1).values.flatten().tolist()\n",
    "cluster3 = cluster3.drop(\"person\", axis = 1).values.flatten().tolist()"
   ]
  },
  {
   "cell_type": "code",
   "execution_count": 86,
   "id": "7897572f",
   "metadata": {},
   "outputs": [],
   "source": [
    "clusters = [cluster1, cluster2, cluster3]"
   ]
  },
  {
   "cell_type": "code",
   "execution_count": 87,
   "id": "6c69a4fa",
   "metadata": {},
   "outputs": [],
   "source": [
    "data = data.drop(\"person\", axis = 1)"
   ]
  },
  {
   "cell_type": "code",
   "execution_count": 88,
   "id": "40709560",
   "metadata": {},
   "outputs": [
    {
     "name": "stdout",
     "output_type": "stream",
     "text": [
      "1\n",
      "-----------\n",
      "1\n",
      "-----------\n",
      "2\n",
      "-----------\n",
      "3\n",
      "-----------\n",
      "1\n",
      "-----------\n",
      "3\n",
      "-----------\n",
      "2\n",
      "-----------\n",
      "3\n",
      "-----------\n"
     ]
    }
   ],
   "source": [
    "for row in data.values:\n",
    "    print(find_closest_cluster(row, clusters) + 1)\n",
    "    print(\"-----------\")"
   ]
  },
  {
   "cell_type": "code",
   "execution_count": 89,
   "id": "ef6371d6",
   "metadata": {},
   "outputs": [
    {
     "data": {
      "text/plain": [
       "[['brunette', 'amber', 'fair'],\n",
       " ['red', 'green', 'brown'],\n",
       " ['black', 'hazel', 'brown']]"
      ]
     },
     "execution_count": 89,
     "metadata": {},
     "output_type": "execute_result"
    }
   ],
   "source": [
    "update_clusters(clusters, data.values)"
   ]
  },
  {
   "cell_type": "code",
   "execution_count": 90,
   "id": "3da09471",
   "metadata": {},
   "outputs": [],
   "source": [
    "def k_modes(data, k, clusters, num_itrs):\n",
    "    for i in range(num_itrs):\n",
    "        print(\"Iteration: \", i+1)\n",
    "        print(\"Clusters: \", clusters)\n",
    "        print(\"+++++++++++++++\")\n",
    "        for row in data.values:\n",
    "            print(row)\n",
    "            print(\"Cluster Assigned: \", find_closest_cluster(row, clusters) + 1)\n",
    "            print(\"-----------\")\n",
    "        clusters = update_clusters(clusters, data.values)\n",
    "        print()\n",
    "        print()\n",
    "        \n",
    "    "
   ]
  },
  {
   "cell_type": "code",
   "execution_count": null,
   "id": "74796394",
   "metadata": {},
   "outputs": [],
   "source": []
  },
  {
   "cell_type": "code",
   "execution_count": 91,
   "id": "2b60a693",
   "metadata": {},
   "outputs": [
    {
     "name": "stdout",
     "output_type": "stream",
     "text": [
      "Iteration:  1\n",
      "Clusters:  [['blonde', 'amber', 'fair'], ['red', 'green', 'fair'], ['black', 'hazel', 'fair']]\n",
      "+++++++++++++++\n",
      "['blonde' 'amber' 'fair']\n",
      "Cluster Assigned:  1\n",
      "-----------\n",
      "['brunette' 'gray' 'brown']\n",
      "Cluster Assigned:  1\n",
      "-----------\n",
      "['red' 'green' 'brown']\n",
      "Cluster Assigned:  2\n",
      "-----------\n",
      "['black' 'hazel' 'brown']\n",
      "Cluster Assigned:  3\n",
      "-----------\n",
      "['brunette' 'amber' 'fair']\n",
      "Cluster Assigned:  1\n",
      "-----------\n",
      "['black' 'gray' 'brown']\n",
      "Cluster Assigned:  3\n",
      "-----------\n",
      "['red' 'green' 'fair']\n",
      "Cluster Assigned:  2\n",
      "-----------\n",
      "['black' 'hazel' 'fair']\n",
      "Cluster Assigned:  3\n",
      "-----------\n",
      "\n",
      "\n",
      "Iteration:  2\n",
      "Clusters:  [['brunette', 'amber', 'fair'], ['red', 'green', 'brown'], ['black', 'hazel', 'brown']]\n",
      "+++++++++++++++\n",
      "['blonde' 'amber' 'fair']\n",
      "Cluster Assigned:  1\n",
      "-----------\n",
      "['brunette' 'gray' 'brown']\n",
      "Cluster Assigned:  1\n",
      "-----------\n",
      "['red' 'green' 'brown']\n",
      "Cluster Assigned:  2\n",
      "-----------\n",
      "['black' 'hazel' 'brown']\n",
      "Cluster Assigned:  3\n",
      "-----------\n",
      "['brunette' 'amber' 'fair']\n",
      "Cluster Assigned:  1\n",
      "-----------\n",
      "['black' 'gray' 'brown']\n",
      "Cluster Assigned:  3\n",
      "-----------\n",
      "['red' 'green' 'fair']\n",
      "Cluster Assigned:  2\n",
      "-----------\n",
      "['black' 'hazel' 'fair']\n",
      "Cluster Assigned:  3\n",
      "-----------\n",
      "\n",
      "\n",
      "Iteration:  3\n",
      "Clusters:  [['brunette', 'amber', 'fair'], ['red', 'green', 'brown'], ['black', 'hazel', 'brown']]\n",
      "+++++++++++++++\n",
      "['blonde' 'amber' 'fair']\n",
      "Cluster Assigned:  1\n",
      "-----------\n",
      "['brunette' 'gray' 'brown']\n",
      "Cluster Assigned:  1\n",
      "-----------\n",
      "['red' 'green' 'brown']\n",
      "Cluster Assigned:  2\n",
      "-----------\n",
      "['black' 'hazel' 'brown']\n",
      "Cluster Assigned:  3\n",
      "-----------\n",
      "['brunette' 'amber' 'fair']\n",
      "Cluster Assigned:  1\n",
      "-----------\n",
      "['black' 'gray' 'brown']\n",
      "Cluster Assigned:  3\n",
      "-----------\n",
      "['red' 'green' 'fair']\n",
      "Cluster Assigned:  2\n",
      "-----------\n",
      "['black' 'hazel' 'fair']\n",
      "Cluster Assigned:  3\n",
      "-----------\n",
      "\n",
      "\n"
     ]
    }
   ],
   "source": [
    "k_modes(data, 3, clusters, 3)"
   ]
  },
  {
   "cell_type": "code",
   "execution_count": 92,
   "id": "07060ced",
   "metadata": {},
   "outputs": [],
   "source": [
    " \n",
    "def update_clusters(clusters, points):\n",
    "    new_clusters = []\n",
    "    temp = [[] for i in range(len(clusters))]\n",
    "    for point in points:\n",
    "        idx = find_closest_cluster(point, clusters)\n",
    "        temp[idx].append(point)\n",
    "        \n",
    "    for points in temp:\n",
    "        new_clusters.append(find_mode(points))\n",
    "    \n",
    "    return new_clusters"
   ]
  },
  {
   "cell_type": "code",
   "execution_count": null,
   "id": "2429d544",
   "metadata": {},
   "outputs": [],
   "source": []
  },
  {
   "cell_type": "code",
   "execution_count": null,
   "id": "65883118",
   "metadata": {},
   "outputs": [],
   "source": []
  }
 ],
 "metadata": {
  "kernelspec": {
   "display_name": "Python 3 (ipykernel)",
   "language": "python",
   "name": "python3"
  },
  "language_info": {
   "codemirror_mode": {
    "name": "ipython",
    "version": 3
   },
   "file_extension": ".py",
   "mimetype": "text/x-python",
   "name": "python",
   "nbconvert_exporter": "python",
   "pygments_lexer": "ipython3",
   "version": "3.7.4"
  }
 },
 "nbformat": 4,
 "nbformat_minor": 5
}
