{
 "cells": [
  {
   "cell_type": "markdown",
   "id": "a5157c4e",
   "metadata": {},
   "source": [
    "## Linear Regression"
   ]
  },
  {
   "cell_type": "code",
   "execution_count": 22,
   "id": "5348a704",
   "metadata": {},
   "outputs": [
    {
     "data": {
      "text/html": [
       "<div>\n",
       "<style scoped>\n",
       "    .dataframe tbody tr th:only-of-type {\n",
       "        vertical-align: middle;\n",
       "    }\n",
       "\n",
       "    .dataframe tbody tr th {\n",
       "        vertical-align: top;\n",
       "    }\n",
       "\n",
       "    .dataframe thead th {\n",
       "        text-align: right;\n",
       "    }\n",
       "</style>\n",
       "<table border=\"1\" class=\"dataframe\">\n",
       "  <thead>\n",
       "    <tr style=\"text-align: right;\">\n",
       "      <th></th>\n",
       "      <th>Year</th>\n",
       "      <th>Model Name</th>\n",
       "      <th>Price Of Computer</th>\n",
       "    </tr>\n",
       "  </thead>\n",
       "  <tbody>\n",
       "    <tr>\n",
       "      <th>0</th>\n",
       "      <td>1986</td>\n",
       "      <td>Mac-1</td>\n",
       "      <td>1000</td>\n",
       "    </tr>\n",
       "    <tr>\n",
       "      <th>1</th>\n",
       "      <td>1988</td>\n",
       "      <td>Dell-1001</td>\n",
       "      <td>2000</td>\n",
       "    </tr>\n",
       "    <tr>\n",
       "      <th>2</th>\n",
       "      <td>1990</td>\n",
       "      <td>HP-1005</td>\n",
       "      <td>3500</td>\n",
       "    </tr>\n",
       "    <tr>\n",
       "      <th>3</th>\n",
       "      <td>1992</td>\n",
       "      <td>Mac-2</td>\n",
       "      <td>4000</td>\n",
       "    </tr>\n",
       "    <tr>\n",
       "      <th>4</th>\n",
       "      <td>1994</td>\n",
       "      <td>Lenevo-1</td>\n",
       "      <td>5000</td>\n",
       "    </tr>\n",
       "  </tbody>\n",
       "</table>\n",
       "</div>"
      ],
      "text/plain": [
       "   Year Model Name  Price Of Computer\n",
       "0  1986      Mac-1               1000\n",
       "1  1988  Dell-1001               2000\n",
       "2  1990    HP-1005               3500\n",
       "3  1992      Mac-2               4000\n",
       "4  1994   Lenevo-1               5000"
      ]
     },
     "execution_count": 22,
     "metadata": {},
     "output_type": "execute_result"
    }
   ],
   "source": [
    "import pandas as pd\n",
    "\n",
    "year = [1986, 1988, 1990, 1992, 1994, 1996, 1998, 2000, 2002, 2004, 2006, 2008, 2010, \n",
    "        2012, 2014, 2016, 2018, 2020, 2022]\n",
    "model_name = [\"Mac-1\", \"Dell-1001\", \"HP-1005\", \"Mac-2\", \"Lenevo-1\", \"Dell-1002\", \"HP-2005\",\n",
    "             \"Lenevo-2\", \"Mac-3\", \"Acer-1\", \"Dell-1003\", \"Mac-4\", \"Acer-2\", \"HP-3005\", \n",
    "             \"Lenevo-3\", \"Dell-1004\", \"Mac-5\", \"Asus-3001\", \"Lenevo-4\"]\n",
    "price_of_computer = [1000, 2000, 3500, 4000, 5000, 9000, 15000, 25000, 40000, 50000, 55000, 67000, \n",
    "                     90000, 115000, 135000, 150000, 200000, 250000, 300000]\n",
    "\n",
    "df = pd.DataFrame({\"Year\": year,\n",
    "                   \"Model Name\": model_name,\n",
    "                   \"Price Of Computer\": price_of_computer})\n",
    "\n",
    "df.to_csv(\"computers_dataset.csv\")#saving dataset\n",
    "\n",
    "df.head()"
   ]
  },
  {
   "cell_type": "code",
   "execution_count": 23,
   "id": "2e63e90e",
   "metadata": {},
   "outputs": [
    {
     "name": "stdout",
     "output_type": "stream",
     "text": [
      "Number of Samples:  19\n"
     ]
    }
   ],
   "source": [
    "print(\"Number of Samples: \", len(df))"
   ]
  },
  {
   "cell_type": "code",
   "execution_count": 24,
   "id": "1250f4d1",
   "metadata": {},
   "outputs": [],
   "source": [
    "import numpy as np\n",
    "\n",
    "X = np.array(df[\"Year\"])\n",
    "X = X.reshape(-1, 1)\n",
    "y = df[\"Price Of Computer\"]"
   ]
  },
  {
   "cell_type": "code",
   "execution_count": 25,
   "id": "3e727065",
   "metadata": {},
   "outputs": [
    {
     "data": {
      "text/plain": [
       "LinearRegression()"
      ]
     },
     "execution_count": 25,
     "metadata": {},
     "output_type": "execute_result"
    }
   ],
   "source": [
    "from sklearn.linear_model import LinearRegression\n",
    "\n",
    "lin_reg = LinearRegression()\n",
    "lin_reg.fit(X, y)"
   ]
  },
  {
   "cell_type": "code",
   "execution_count": 26,
   "id": "ec107485",
   "metadata": {},
   "outputs": [
    {
     "name": "stdout",
     "output_type": "stream",
     "text": [
      "Actual Value:\n",
      " [  1000   2000   3500   4000   5000   9000  15000  25000  40000  50000\n",
      "  55000  67000  90000 115000 135000 150000 200000 250000 300000]\n"
     ]
    }
   ],
   "source": [
    "print(\"Actual Value:\\n\", np.array(y))"
   ]
  },
  {
   "cell_type": "code",
   "execution_count": 27,
   "id": "73613c38",
   "metadata": {},
   "outputs": [
    {
     "name": "stdout",
     "output_type": "stream",
     "text": [
      "Predicted Values:\n",
      " [-51623.68421053 -37019.29824561 -22414.9122807   -7810.52631579\n",
      "   6793.85964912  21398.24561404  36002.63157895  50607.01754386\n",
      "  65211.40350877  79815.78947368  94420.1754386  109024.56140351\n",
      " 123628.94736842 138233.33333333 152837.71929825 167442.10526316\n",
      " 182046.49122807 196650.87719298 211255.26315789]\n"
     ]
    }
   ],
   "source": [
    "predictions = lin_reg.predict(X)\n",
    "print(\"Predicted Values:\\n\", predictions)"
   ]
  },
  {
   "cell_type": "code",
   "execution_count": 28,
   "id": "cb3e7050",
   "metadata": {},
   "outputs": [
    {
     "name": "stdout",
     "output_type": "stream",
     "text": [
      "R2 Score:  0.8320583343644417\n",
      "Root Mean Squared Error:  35937.368250190055\n"
     ]
    }
   ],
   "source": [
    "from sklearn.metrics import r2_score, mean_squared_error\n",
    "\n",
    "r2 = r2_score(y, predictions)\n",
    "rmse = np.sqrt(mean_squared_error(y, predictions))\n",
    "\n",
    "print(\"R2 Score: \", r2)\n",
    "print(\"Root Mean Squared Error: \", rmse)"
   ]
  },
  {
   "cell_type": "code",
   "execution_count": 29,
   "id": "ac8f8cd5",
   "metadata": {},
   "outputs": [
    {
     "data": {
      "text/plain": [
       "Text(0.5, 1.0, 'Fit of the Line')"
      ]
     },
     "execution_count": 29,
     "metadata": {},
     "output_type": "execute_result"
    },
    {
     "data": {
      "image/png": "[encoded data removed]",
      "text/plain": [
       "<Figure size 432x288 with 1 Axes>"
      ]
     },
     "metadata": {
      "needs_background": "light"
     },
     "output_type": "display_data"
    }
   ],
   "source": [
    "import matplotlib.pyplot as plt\n",
    "\n",
    "plt.scatter(X, y, color=\"red\")\n",
    "plt.plot(X, predictions, color=\"blue\")\n",
    "plt.xlabel(\"Year\")\n",
    "plt.ylabel(\"Price Of Computer\")\n",
    "plt.title(\"Fit of the Line\")"
   ]
  },
  {
   "cell_type": "markdown",
   "id": "e4602a45",
   "metadata": {},
   "source": [
    "## Logistic Regression"
   ]
  },
  {
   "cell_type": "code",
   "execution_count": 30,
   "id": "2acd2bf8",
   "metadata": {},
   "outputs": [
    {
     "data": {
      "text/html": [
       "<div>\n",
       "<style scoped>\n",
       "    .dataframe tbody tr th:only-of-type {\n",
       "        vertical-align: middle;\n",
       "    }\n",
       "\n",
       "    .dataframe tbody tr th {\n",
       "        vertical-align: top;\n",
       "    }\n",
       "\n",
       "    .dataframe thead th {\n",
       "        text-align: right;\n",
       "    }\n",
       "</style>\n",
       "<table border=\"1\" class=\"dataframe\">\n",
       "  <thead>\n",
       "    <tr style=\"text-align: right;\">\n",
       "      <th></th>\n",
       "      <th>Year</th>\n",
       "      <th>Model Name</th>\n",
       "      <th>Price Of Computer</th>\n",
       "      <th>Buy</th>\n",
       "    </tr>\n",
       "  </thead>\n",
       "  <tbody>\n",
       "    <tr>\n",
       "      <th>0</th>\n",
       "      <td>1986</td>\n",
       "      <td>Mac-1</td>\n",
       "      <td>1000</td>\n",
       "      <td>1</td>\n",
       "    </tr>\n",
       "    <tr>\n",
       "      <th>1</th>\n",
       "      <td>1988</td>\n",
       "      <td>Dell-1001</td>\n",
       "      <td>2000</td>\n",
       "      <td>1</td>\n",
       "    </tr>\n",
       "    <tr>\n",
       "      <th>2</th>\n",
       "      <td>1990</td>\n",
       "      <td>HP-1005</td>\n",
       "      <td>3500</td>\n",
       "      <td>0</td>\n",
       "    </tr>\n",
       "    <tr>\n",
       "      <th>3</th>\n",
       "      <td>1992</td>\n",
       "      <td>Mac-2</td>\n",
       "      <td>4000</td>\n",
       "      <td>1</td>\n",
       "    </tr>\n",
       "    <tr>\n",
       "      <th>4</th>\n",
       "      <td>1994</td>\n",
       "      <td>Lenevo-1</td>\n",
       "      <td>5000</td>\n",
       "      <td>0</td>\n",
       "    </tr>\n",
       "  </tbody>\n",
       "</table>\n",
       "</div>"
      ],
      "text/plain": [
       "   Year Model Name  Price Of Computer  Buy\n",
       "0  1986      Mac-1               1000    1\n",
       "1  1988  Dell-1001               2000    1\n",
       "2  1990    HP-1005               3500    0\n",
       "3  1992      Mac-2               4000    1\n",
       "4  1994   Lenevo-1               5000    0"
      ]
     },
     "execution_count": 30,
     "metadata": {},
     "output_type": "execute_result"
    }
   ],
   "source": [
    "# 0 - No, 1 - Yes\n",
    "buy = [1, 1, 0, 1, 0, 1, 0, 1, 1,\n",
    "      1, 0, 1, 0, 1, 0, 1, 1, 0, 0]\n",
    "\n",
    "df[\"Buy\"] = buy\n",
    "df.head()"
   ]
  },
  {
   "cell_type": "code",
   "execution_count": 31,
   "id": "9c1d68a0",
   "metadata": {},
   "outputs": [
    {
     "data": {
      "text/plain": [
       "Text(0.5, 1.0, 'Correlation Matrix')"
      ]
     },
     "execution_count": 31,
     "metadata": {},
     "output_type": "execute_result"
    },
    {
     "data": {
      "image/png": "[encoded data removed]",
      "text/plain": [
       "<Figure size 432x288 with 2 Axes>"
      ]
     },
     "metadata": {
      "needs_background": "light"
     },
     "output_type": "display_data"
    }
   ],
   "source": [
    "import seaborn as sns\n",
    "\n",
    "corr_mat = df.corr()\n",
    "sns.heatmap(data=corr_mat, annot=True, cmap = 'Blues_r')\n",
    "plt.title(\"Correlation Matrix\")"
   ]
  },
  {
   "cell_type": "code",
   "execution_count": 32,
   "id": "db75175a",
   "metadata": {},
   "outputs": [
    {
     "data": {
      "text/plain": [
       "LogisticRegression()"
      ]
     },
     "execution_count": 32,
     "metadata": {},
     "output_type": "execute_result"
    }
   ],
   "source": [
    "from sklearn.linear_model import LogisticRegression\n",
    "\n",
    "X = df[[\"Year\" , \"Price Of Computer\"]]\n",
    "y = df[\"Buy\"]\n",
    "\n",
    "log_reg = LogisticRegression()\n",
    "log_reg.fit(X, y)"
   ]
  },
  {
   "cell_type": "code",
   "execution_count": 33,
   "id": "16f900f7",
   "metadata": {},
   "outputs": [
    {
     "name": "stdout",
     "output_type": "stream",
     "text": [
      "Actual Values:\n",
      " [1 1 0 1 0 1 0 1 1 1 0 1 0 1 0 1 1 0 0]\n"
     ]
    }
   ],
   "source": [
    "print(\"Actual Values:\\n\", np.array(y))"
   ]
  },
  {
   "cell_type": "code",
   "execution_count": 34,
   "id": "27524530",
   "metadata": {},
   "outputs": [
    {
     "name": "stdout",
     "output_type": "stream",
     "text": [
      "Predicted Values:\n",
      " [1 1 1 1 1 1 1 1 1 1 1 1 1 1 0 0 0 0 0]\n"
     ]
    }
   ],
   "source": [
    "predictions = log_reg.predict(X)\n",
    "print(\"Predicted Values:\\n\", predictions)"
   ]
  },
  {
   "cell_type": "code",
   "execution_count": 35,
   "id": "edc7b877",
   "metadata": {},
   "outputs": [
    {
     "name": "stdout",
     "output_type": "stream",
     "text": [
      "Logistic Regression Score:  0.631578947368421\n"
     ]
    }
   ],
   "source": [
    "score = log_reg.score(X, y)\n",
    "print(\"Logistic Regression Score: \", score)"
   ]
  },
  {
   "cell_type": "code",
   "execution_count": 36,
   "id": "90928f7c",
   "metadata": {},
   "outputs": [
    {
     "data": {
      "text/plain": [
       "Text(0.5, 15.0, 'Predicted label')"
      ]
     },
     "execution_count": 36,
     "metadata": {},
     "output_type": "execute_result"
    },
    {
     "data": {
      "image/png": "[encoded data removed]",
      "text/plain": [
       "<Figure size 432x288 with 2 Axes>"
      ]
     },
     "metadata": {
      "needs_background": "light"
     },
     "output_type": "display_data"
    }
   ],
   "source": [
    "from sklearn.metrics import confusion_matrix\n",
    "\n",
    "accuracy_cm = confusion_matrix(y, predictions)\n",
    "sns.heatmap(data=accuracy_cm, annot=True)\n",
    "plt.title(\"Accuracy: {0}\".format(log_reg.score(X, y)))\n",
    "plt.ylabel('Actual label')\n",
    "plt.xlabel('Predicted label')"
   ]
  },
  {
   "cell_type": "markdown",
   "id": "3dd7a358",
   "metadata": {},
   "source": [
    "## Polynomial Regression"
   ]
  },
  {
   "cell_type": "code",
   "execution_count": null,
   "id": "c8b66c49",
   "metadata": {},
   "outputs": [],
   "source": []
  },
  {
   "cell_type": "code",
   "execution_count": 46,
   "id": "9730cc40",
   "metadata": {},
   "outputs": [],
   "source": [
    "X = np.array(df[\"Year\"])\n",
    "X = X.reshape(-1, 1)\n",
    "y = df[\"Price Of Computer\"]"
   ]
  },
  {
   "cell_type": "code",
   "execution_count": null,
   "id": "c6c3c03b",
   "metadata": {},
   "outputs": [],
   "source": []
  },
  {
   "cell_type": "code",
   "execution_count": 47,
   "id": "d9ddd076",
   "metadata": {},
   "outputs": [
    {
     "data": {
      "text/plain": [
       "Text(0, 0.5, 'RMS Error')"
      ]
     },
     "execution_count": 47,
     "metadata": {},
     "output_type": "execute_result"
    },
    {
     "data": {
      "image/png": "[encoded data removed]",
      "text/plain": [
       "<Figure size 432x288 with 1 Axes>"
      ]
     },
     "metadata": {
      "needs_background": "light"
     },
     "output_type": "display_data"
    }
   ],
   "source": [
    "from sklearn.preprocessing import PolynomialFeatures\n",
    "\n",
    "rmse = []\n",
    "for n in range(1, 11):\n",
    "    poly_features = PolynomialFeatures(degree = n)\n",
    "    X_poly = poly_features.fit_transform(X)\n",
    "    poly_reg = LinearRegression()\n",
    "    poly_reg.fit(X_poly, y)\n",
    "    predictions = poly_reg.predict(X_poly)\n",
    "    error = np.sqrt(mean_squared_error(y, predictions))\n",
    "    rmse.append(error)\n",
    "    \n",
    "degrees = [n for n in range(1, 11)]\n",
    "plt.scatter(degrees, rmse, color=\"red\")\n",
    "plt.plot(degrees, rmse)\n",
    "plt.title(\"Error for Different Degrees\")\n",
    "plt.xlabel(\"Degree\")\n",
    "plt.ylabel(\"RMS Error\")"
   ]
  },
  {
   "cell_type": "code",
   "execution_count": 52,
   "id": "bf06c033",
   "metadata": {},
   "outputs": [
    {
     "name": "stdout",
     "output_type": "stream",
     "text": [
      "Root Mean Squared Error:  5933.941852786519\n",
      "R2 Score:  0.9954211914083125\n"
     ]
    }
   ],
   "source": [
    "#taking 3 as the best degree\n",
    "\n",
    "poly_features = PolynomialFeatures(degree = 3)\n",
    "X_poly = poly_features.fit_transform(X)\n",
    "poly_reg = LinearRegression()\n",
    "poly_reg.fit(X_poly, y)\n",
    "predictions = poly_reg.predict(X_poly)\n",
    "rmse = np.sqrt(mean_squared_error(y, predictions))\n",
    "r2 = r2_score(y, predictions)\n",
    "print(\"Root Mean Squared Error: \", rmse)\n",
    "print(\"R2 Score: \", r2)"
   ]
  },
  {
   "cell_type": "code",
   "execution_count": 49,
   "id": "29f8e460",
   "metadata": {},
   "outputs": [
    {
     "data": {
      "text/plain": [
       "Text(0.5, 1.0, 'Fit of Curve')"
      ]
     },
     "execution_count": 49,
     "metadata": {},
     "output_type": "execute_result"
    },
    {
     "data": {
      "image/png": "[encoded data removed]",
      "text/plain": [
       "<Figure size 432x288 with 1 Axes>"
      ]
     },
     "metadata": {
      "needs_background": "light"
     },
     "output_type": "display_data"
    }
   ],
   "source": [
    "plt.scatter(X, y, color=\"red\")\n",
    "plt.plot(X, predictions)\n",
    "plt.xlabel(\"Year\")\n",
    "plt.ylabel(\"Price Of Computer\")\n",
    "plt.title(\"Fit of Curve\")"
   ]
  },
  {
   "cell_type": "code",
   "execution_count": 59,
   "id": "94009e54",
   "metadata": {},
   "outputs": [
    {
     "data": {
      "text/plain": [
       "Text(0, 0.5, 'RMS Error')"
      ]
     },
     "execution_count": 59,
     "metadata": {},
     "output_type": "execute_result"
    },
    {
     "data": {
      "image/png": "[encoded data removed]",
      "text/plain": [
       "<Figure size 432x288 with 1 Axes>"
      ]
     },
     "metadata": {
      "needs_background": "light"
     },
     "output_type": "display_data"
    }
   ],
   "source": [
    "#comparing performance of Linear Regression and Polynomial Regression\n",
    "\n",
    "rmse = [35937.3682, 5933.9418]\n",
    "models = [\"Linear Regression\", \"Polynomial Regression\"]\n",
    "plt.bar(models, rmse, color ='maroon', width = 0.5)\n",
    "plt.xlabel(\"Model\")\n",
    "plt.ylabel(\"RMS Error\")"
   ]
  },
  {
   "cell_type": "code",
   "execution_count": 58,
   "id": "3cb21b52",
   "metadata": {},
   "outputs": [
    {
     "data": {
      "text/plain": [
       "Text(0, 0.5, 'R2 Score')"
      ]
     },
     "execution_count": 58,
     "metadata": {},
     "output_type": "execute_result"
    },
    {
     "data": {
      "image/png": "[encoded data removed]",
      "text/plain": [
       "<Figure size 432x288 with 1 Axes>"
      ]
     },
     "metadata": {
      "needs_background": "light"
     },
     "output_type": "display_data"
    }
   ],
   "source": [
    "r2 = [0.8320, 0.9954]\n",
    "models = [\"Linear Regression\", \"Polynomial Regression\"]\n",
    "plt.bar(models, r2, color ='maroon', width = 0.5)\n",
    "plt.xlabel(\"Model\")\n",
    "plt.ylabel(\"R2 Score\")"
   ]
  },
  {
   "cell_type": "code",
   "execution_count": null,
   "id": "1be0e0c6",
   "metadata": {},
   "outputs": [],
   "source": []
  }
 ],
 "metadata": {
  "kernelspec": {
   "display_name": "Python 3 (ipykernel)",
   "language": "python",
   "name": "python3"
  },
  "language_info": {
   "codemirror_mode": {
    "name": "ipython",
    "version": 3
   },
   "file_extension": ".py",
   "mimetype": "text/x-python",
   "name": "python",
   "nbconvert_exporter": "python",
   "pygments_lexer": "ipython3",
   "version": "3.7.4"
  }
 },
 "nbformat": 4,
 "nbformat_minor": 5
}
