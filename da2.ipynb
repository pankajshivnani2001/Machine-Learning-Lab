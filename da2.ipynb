{
 "cells": [
  {
   "cell_type": "code",
   "execution_count": 1,
   "id": "ef9924af",
   "metadata": {},
   "outputs": [
    {
     "data": {
      "text/html": [
       "<div>\n",
       "<style scoped>\n",
       "    .dataframe tbody tr th:only-of-type {\n",
       "        vertical-align: middle;\n",
       "    }\n",
       "\n",
       "    .dataframe tbody tr th {\n",
       "        vertical-align: top;\n",
       "    }\n",
       "\n",
       "    .dataframe thead th {\n",
       "        text-align: right;\n",
       "    }\n",
       "</style>\n",
       "<table border=\"1\" class=\"dataframe\">\n",
       "  <thead>\n",
       "    <tr style=\"text-align: right;\">\n",
       "      <th></th>\n",
       "      <th>Year</th>\n",
       "      <th>Model Name</th>\n",
       "      <th>Price Of Computer</th>\n",
       "    </tr>\n",
       "  </thead>\n",
       "  <tbody>\n",
       "    <tr>\n",
       "      <th>0</th>\n",
       "      <td>1994</td>\n",
       "      <td>Lenevo-1</td>\n",
       "      <td>5000</td>\n",
       "    </tr>\n",
       "    <tr>\n",
       "      <th>1</th>\n",
       "      <td>1996</td>\n",
       "      <td>Dell-1002</td>\n",
       "      <td>9000</td>\n",
       "    </tr>\n",
       "    <tr>\n",
       "      <th>2</th>\n",
       "      <td>1998</td>\n",
       "      <td>HP-2005</td>\n",
       "      <td>15000</td>\n",
       "    </tr>\n",
       "    <tr>\n",
       "      <th>3</th>\n",
       "      <td>2000</td>\n",
       "      <td>Lenevo-2</td>\n",
       "      <td>25000</td>\n",
       "    </tr>\n",
       "    <tr>\n",
       "      <th>4</th>\n",
       "      <td>2002</td>\n",
       "      <td>Mac-3</td>\n",
       "      <td>40000</td>\n",
       "    </tr>\n",
       "  </tbody>\n",
       "</table>\n",
       "</div>"
      ],
      "text/plain": [
       "   Year Model Name  Price Of Computer\n",
       "0  1994   Lenevo-1               5000\n",
       "1  1996  Dell-1002               9000\n",
       "2  1998    HP-2005              15000\n",
       "3  2000   Lenevo-2              25000\n",
       "4  2002      Mac-3              40000"
      ]
     },
     "execution_count": 1,
     "metadata": {},
     "output_type": "execute_result"
    }
   ],
   "source": [
    "import pandas as pd\n",
    "\n",
    "year = [1994, 1996, 1998, 2000, 2002, 2004, 2006, 2008, 2010, \n",
    "        2012, 2014, 2016, 2018, 2020, 2022]\n",
    "model_name = [\"Lenevo-1\", \"Dell-1002\", \"HP-2005\",\n",
    "             \"Lenevo-2\", \"Mac-3\", \"Acer-1\", \"Dell-1003\", \"Mac-4\", \"Acer-2\", \"HP-3005\", \n",
    "             \"Lenevo-3\", \"Dell-1004\", \"Mac-5\", \"Asus-3001\", \"Lenevo-4\"]\n",
    "price_of_computer = [5000, 9000, 15000, 25000, 40000, 50000, 55000, 67000, \n",
    "                     90000, 115000, 135000, 150000, 200000, 250000, 300000]\n",
    "\n",
    "df = pd.DataFrame({\"Year\": year,\n",
    "                   \"Model Name\": model_name,\n",
    "                   \"Price Of Computer\": price_of_computer})\n",
    "\n",
    "df.head()"
   ]
  },
  {
   "cell_type": "code",
   "execution_count": 2,
   "id": "71a7fcc6",
   "metadata": {},
   "outputs": [],
   "source": [
    "import numpy as np\n",
    "\n",
    "X = np.array(df[\"Year\"])\n",
    "X = X.reshape(-1, 1)\n",
    "y = df[\"Price Of Computer\"]"
   ]
  },
  {
   "cell_type": "code",
   "execution_count": 3,
   "id": "1bbd6f10",
   "metadata": {},
   "outputs": [
    {
     "data": {
      "text/plain": [
       "LinearRegression()"
      ]
     },
     "execution_count": 3,
     "metadata": {},
     "output_type": "execute_result"
    }
   ],
   "source": [
    "from sklearn.linear_model import LinearRegression\n",
    "\n",
    "lin_reg = LinearRegression()\n",
    "lin_reg.fit(X, y)"
   ]
  },
  {
   "cell_type": "code",
   "execution_count": 5,
   "id": "cf3a8114",
   "metadata": {},
   "outputs": [
    {
     "name": "stdout",
     "output_type": "stream",
     "text": [
      "R2 Score:  0.8937689974849108\n",
      "Root Mean Squared Error:  28651.984058284805\n"
     ]
    }
   ],
   "source": [
    "from sklearn.metrics import r2_score, mean_squared_error\n",
    "\n",
    "print(\"R2 Score: \", r2_score(y, lin_reg.predict(X)))\n",
    "print(\"Root Mean Squared Error: \", np.sqrt(mean_squared_error(y, lin_reg.predict(X))))"
   ]
  },
  {
   "cell_type": "code",
   "execution_count": 6,
   "id": "78293687",
   "metadata": {},
   "outputs": [
    {
     "data": {
      "text/plain": [
       "[<matplotlib.lines.Line2D at 0x19f4d42e388>]"
      ]
     },
     "execution_count": 6,
     "metadata": {},
     "output_type": "execute_result"
    },
    {
     "data": {
      "image/png": "[encoded data removed]",
      "text/plain": [
       "<Figure size 432x288 with 1 Axes>"
      ]
     },
     "metadata": {
      "needs_background": "light"
     },
     "output_type": "display_data"
    }
   ],
   "source": [
    "import matplotlib.pyplot as plt\n",
    "\n",
    "plt.scatter(X, y, color=\"red\")\n",
    "plt.plot(X, lin_reg.predict(X), color=\"blue\")"
   ]
  },
  {
   "cell_type": "code",
   "execution_count": null,
   "id": "42f4047a",
   "metadata": {},
   "outputs": [],
   "source": []
  },
  {
   "cell_type": "code",
   "execution_count": 7,
   "id": "4998f9b9",
   "metadata": {},
   "outputs": [
    {
     "data": {
      "text/html": [
       "<div>\n",
       "<style scoped>\n",
       "    .dataframe tbody tr th:only-of-type {\n",
       "        vertical-align: middle;\n",
       "    }\n",
       "\n",
       "    .dataframe tbody tr th {\n",
       "        vertical-align: top;\n",
       "    }\n",
       "\n",
       "    .dataframe thead th {\n",
       "        text-align: right;\n",
       "    }\n",
       "</style>\n",
       "<table border=\"1\" class=\"dataframe\">\n",
       "  <thead>\n",
       "    <tr style=\"text-align: right;\">\n",
       "      <th></th>\n",
       "      <th>Year</th>\n",
       "      <th>Model Name</th>\n",
       "      <th>Price Of Computer</th>\n",
       "      <th>Buy</th>\n",
       "    </tr>\n",
       "  </thead>\n",
       "  <tbody>\n",
       "    <tr>\n",
       "      <th>0</th>\n",
       "      <td>1994</td>\n",
       "      <td>Lenevo-1</td>\n",
       "      <td>5000</td>\n",
       "      <td>0</td>\n",
       "    </tr>\n",
       "    <tr>\n",
       "      <th>1</th>\n",
       "      <td>1996</td>\n",
       "      <td>Dell-1002</td>\n",
       "      <td>9000</td>\n",
       "      <td>1</td>\n",
       "    </tr>\n",
       "    <tr>\n",
       "      <th>2</th>\n",
       "      <td>1998</td>\n",
       "      <td>HP-2005</td>\n",
       "      <td>15000</td>\n",
       "      <td>0</td>\n",
       "    </tr>\n",
       "    <tr>\n",
       "      <th>3</th>\n",
       "      <td>2000</td>\n",
       "      <td>Lenevo-2</td>\n",
       "      <td>25000</td>\n",
       "      <td>1</td>\n",
       "    </tr>\n",
       "    <tr>\n",
       "      <th>4</th>\n",
       "      <td>2002</td>\n",
       "      <td>Mac-3</td>\n",
       "      <td>40000</td>\n",
       "      <td>1</td>\n",
       "    </tr>\n",
       "  </tbody>\n",
       "</table>\n",
       "</div>"
      ],
      "text/plain": [
       "   Year Model Name  Price Of Computer  Buy\n",
       "0  1994   Lenevo-1               5000    0\n",
       "1  1996  Dell-1002               9000    1\n",
       "2  1998    HP-2005              15000    0\n",
       "3  2000   Lenevo-2              25000    1\n",
       "4  2002      Mac-3              40000    1"
      ]
     },
     "execution_count": 7,
     "metadata": {},
     "output_type": "execute_result"
    }
   ],
   "source": [
    "# 0 - No, 1 - Yes\n",
    "buy = [0, 1, 0, 1, 1,\n",
    "      1, 0, 1, 0, 1, 0, 1, 1, 0, 0]\n",
    "\n",
    "df[\"Buy\"] = buy\n",
    "df.head()"
   ]
  },
  {
   "cell_type": "code",
   "execution_count": 8,
   "id": "612ce1fb",
   "metadata": {},
   "outputs": [
    {
     "data": {
      "text/plain": [
       "LogisticRegression()"
      ]
     },
     "execution_count": 8,
     "metadata": {},
     "output_type": "execute_result"
    }
   ],
   "source": [
    "from sklearn.linear_model import LogisticRegression\n",
    "\n",
    "X = df[[\"Year\" , \"Price Of Computer\"]]\n",
    "y = df[\"Buy\"]\n",
    "\n",
    "log_reg = LogisticRegression()\n",
    "log_reg.fit(X, y)"
   ]
  },
  {
   "cell_type": "code",
   "execution_count": 9,
   "id": "8ab5bb35",
   "metadata": {},
   "outputs": [
    {
     "name": "stdout",
     "output_type": "stream",
     "text": [
      "Logistic Regression Score:  0.6\n"
     ]
    }
   ],
   "source": [
    "score = log_reg.score(X, y)\n",
    "print(\"Logistic Regression Score: \", score)"
   ]
  },
  {
   "cell_type": "code",
   "execution_count": null,
   "id": "7f467cab",
   "metadata": {},
   "outputs": [],
   "source": []
  },
  {
   "cell_type": "code",
   "execution_count": 10,
   "id": "2d6b25b9",
   "metadata": {},
   "outputs": [],
   "source": [
    "X = np.array(df[\"Year\"])\n",
    "X = X.reshape(-1, 1)\n",
    "y = df[\"Price Of Computer\"]"
   ]
  },
  {
   "cell_type": "code",
   "execution_count": 14,
   "id": "86ed3874",
   "metadata": {},
   "outputs": [
    {
     "name": "stdout",
     "output_type": "stream",
     "text": [
      "Root Mean Squared Error:  9638.410508031206\n",
      "R2 Score:  0.9879786645270443\n"
     ]
    }
   ],
   "source": [
    "from sklearn.preprocessing import PolynomialFeatures\n",
    "\n",
    "poly_features = PolynomialFeatures(degree = 2)\n",
    "xx = poly_features.fit_transform(X)\n",
    "reg = LinearRegression()\n",
    "reg.fit(xx, y)\n",
    "rmse = np.sqrt(mean_squared_error(y, reg.predict(xx)))\n",
    "r2 = r2_score(y, reg.predict(xx))\n",
    "print(\"Root Mean Squared Error: \", rmse)\n",
    "print(\"R2 Score: \", r2)"
   ]
  },
  {
   "cell_type": "code",
   "execution_count": 15,
   "id": "91d5dc1c",
   "metadata": {},
   "outputs": [
    {
     "name": "stdout",
     "output_type": "stream",
     "text": [
      "Root Mean Squared Error:  5078.441663567519\n",
      "R2 Score:  0.9966626418597877\n"
     ]
    }
   ],
   "source": [
    "from sklearn.preprocessing import PolynomialFeatures\n",
    "\n",
    "poly_features = PolynomialFeatures(degree = 3)\n",
    "xx = poly_features.fit_transform(X)\n",
    "reg = LinearRegression()\n",
    "reg.fit(xx, y)\n",
    "rmse = np.sqrt(mean_squared_error(y, reg.predict(xx)))\n",
    "r2 = r2_score(y, reg.predict(xx))\n",
    "print(\"Root Mean Squared Error: \", rmse)\n",
    "print(\"R2 Score: \", r2)"
   ]
  },
  {
   "cell_type": "code",
   "execution_count": 16,
   "id": "97e3c5d0",
   "metadata": {},
   "outputs": [
    {
     "name": "stdout",
     "output_type": "stream",
     "text": [
      "Root Mean Squared Error:  5068.440925343053\n",
      "R2 Score:  0.996675773125001\n"
     ]
    }
   ],
   "source": [
    "from sklearn.preprocessing import PolynomialFeatures\n",
    "\n",
    "poly_features = PolynomialFeatures(degree = 4)\n",
    "xx = poly_features.fit_transform(X)\n",
    "reg = LinearRegression()\n",
    "reg.fit(xx, y)\n",
    "rmse = np.sqrt(mean_squared_error(y, reg.predict(xx)))\n",
    "r2 = r2_score(y, reg.predict(xx))\n",
    "print(\"Root Mean Squared Error: \", rmse)\n",
    "print(\"R2 Score: \", r2)"
   ]
  },
  {
   "cell_type": "code",
   "execution_count": 17,
   "id": "160cfd90",
   "metadata": {},
   "outputs": [
    {
     "name": "stdout",
     "output_type": "stream",
     "text": [
      "Root Mean Squared Error:  5068.440925343053\n",
      "R2 Score:  0.996675773125001\n"
     ]
    }
   ],
   "source": [
    "#taking 4 as best degree\n",
    "\n",
    "from sklearn.preprocessing import PolynomialFeatures\n",
    "\n",
    "poly_features = PolynomialFeatures(degree = 4)\n",
    "xx = poly_features.fit_transform(X)\n",
    "reg = LinearRegression()\n",
    "reg.fit(xx, y)\n",
    "rmse = np.sqrt(mean_squared_error(y, reg.predict(xx)))\n",
    "r2 = r2_score(y, reg.predict(xx))\n",
    "print(\"Root Mean Squared Error: \", rmse)\n",
    "print(\"R2 Score: \", r2)"
   ]
  },
  {
   "cell_type": "code",
   "execution_count": 18,
   "id": "56c24c05",
   "metadata": {},
   "outputs": [
    {
     "data": {
      "text/plain": [
       "[<matplotlib.lines.Line2D at 0x19f4f60ef48>]"
      ]
     },
     "execution_count": 18,
     "metadata": {},
     "output_type": "execute_result"
    },
    {
     "data": {
      "image/png": "[encoded data removed]",
      "text/plain": [
       "<Figure size 432x288 with 1 Axes>"
      ]
     },
     "metadata": {
      "needs_background": "light"
     },
     "output_type": "display_data"
    }
   ],
   "source": [
    "plt.scatter(X, y, color=\"red\")\n",
    "plt.plot(X, reg.predict(xx))"
   ]
  },
  {
   "cell_type": "code",
   "execution_count": null,
   "id": "66f12dfd",
   "metadata": {},
   "outputs": [],
   "source": []
  }
 ],
 "metadata": {
  "kernelspec": {
   "display_name": "Python 3 (ipykernel)",
   "language": "python",
   "name": "python3"
  },
  "language_info": {
   "codemirror_mode": {
    "name": "ipython",
    "version": 3
   },
   "file_extension": ".py",
   "mimetype": "text/x-python",
   "name": "python",
   "nbconvert_exporter": "python",
   "pygments_lexer": "ipython3",
   "version": "3.7.4"
  }
 },
 "nbformat": 4,
 "nbformat_minor": 5
}
