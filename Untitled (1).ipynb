{
 "cells": [
  {
   "cell_type": "markdown",
   "id": "57e44919",
   "metadata": {},
   "source": [
    "# Hierarchial Clustering"
   ]
  },
  {
   "cell_type": "code",
   "execution_count": 1,
   "id": "d395b27d",
   "metadata": {},
   "outputs": [],
   "source": [
    "import numpy as np\n",
    "import matplotlib.pyplot as plt\n",
    "from sklearn.datasets import make_blobs"
   ]
  },
  {
   "cell_type": "code",
   "execution_count": 2,
   "id": "90648b2d",
   "metadata": {},
   "outputs": [],
   "source": [
    "X, y = make_blobs(n_samples = 25,n_features = 2,centers=4,random_state=10)"
   ]
  },
  {
   "cell_type": "code",
   "execution_count": 3,
   "id": "46db5138",
   "metadata": {},
   "outputs": [
    {
     "data": {
      "image/png": "[encoded data removed]",
      "text/plain": [
       "<Figure size 576x396 with 1 Axes>"
      ]
     },
     "metadata": {},
     "output_type": "display_data"
    }
   ],
   "source": [
    "plt.style.use('seaborn')\n",
    "plt.scatter(X[:,0],X[:,1],c = y,cmap = plt.cm.Accent)\n",
    "plt.show()"
   ]
  },
  {
   "cell_type": "code",
   "execution_count": 4,
   "id": "f8ab95f3",
   "metadata": {},
   "outputs": [],
   "source": [
    "clusters = dict()"
   ]
  },
  {
   "cell_type": "code",
   "execution_count": 5,
   "id": "72fdf311",
   "metadata": {},
   "outputs": [],
   "source": [
    "for i in range(X.shape[0]):\n",
    "    clusters[i] = dict()\n",
    "    clusters[i]['points'] = list([i])\n",
    "    clusters[i]['center'] = X[i]\n",
    "    "
   ]
  },
  {
   "cell_type": "code",
   "execution_count": 6,
   "id": "f9f4f26c",
   "metadata": {},
   "outputs": [],
   "source": [
    "def distance(a,b):\n",
    "    return np.sqrt(np.sum((a-b)**2))"
   ]
  },
  {
   "cell_type": "code",
   "execution_count": 7,
   "id": "e023498e",
   "metadata": {},
   "outputs": [
    {
     "data": {
      "text/plain": [
       "array([[  0.69523642,   3.23270535],\n",
       "       [ -5.19651797,   5.41419504],\n",
       "       [  2.77211391,   6.37407403],\n",
       "       [  5.655043  ,  -9.1398234 ],\n",
       "       [  6.91094987, -10.6647659 ],\n",
       "       [ -6.57862178,   5.91877426],\n",
       "       [  2.40564751,   4.42676864],\n",
       "       [  2.40171671,   5.58928184],\n",
       "       [ -6.37788295,   5.52278418],\n",
       "       [ -6.06464804,   5.49970845],\n",
       "       [ -5.47359004,   5.06319399],\n",
       "       [  5.85943906,  -8.38192364],\n",
       "       [  5.4307043 ,  -9.75956122],\n",
       "       [  0.37035023,  -5.84169943],\n",
       "       [ -6.84333385,   4.99791661],\n",
       "       [  1.27861333,  -5.30905381],\n",
       "       [  0.6303718 ,  -5.85493898],\n",
       "       [  1.22661251,  -6.23603659],\n",
       "       [  4.46134719,  -8.55668693],\n",
       "       [ -0.96929311,  -5.99340431],\n",
       "       [  5.69192445,  -9.47641249],\n",
       "       [  4.28981065,  -9.44982413],\n",
       "       [  3.79665595,   6.64869986],\n",
       "       [  2.93903486,   7.36104498],\n",
       "       [  0.10284854,  -5.9802091 ]])"
      ]
     },
     "execution_count": 7,
     "metadata": {},
     "output_type": "execute_result"
    }
   ],
   "source": [
    "X"
   ]
  },
  {
   "cell_type": "code",
   "execution_count": 8,
   "id": "63d2beeb",
   "metadata": {},
   "outputs": [
    {
     "data": {
      "text/plain": [
       "{0: {'points': [0], 'center': array([0.69523642, 3.23270535])},\n",
       " 1: {'points': [1], 'center': array([-5.19651797,  5.41419504])},\n",
       " 2: {'points': [2], 'center': array([2.77211391, 6.37407403])},\n",
       " 3: {'points': [3], 'center': array([ 5.655043 , -9.1398234])},\n",
       " 4: {'points': [4], 'center': array([  6.91094987, -10.6647659 ])},\n",
       " 5: {'points': [5], 'center': array([-6.57862178,  5.91877426])},\n",
       " 6: {'points': [6], 'center': array([2.40564751, 4.42676864])},\n",
       " 7: {'points': [7], 'center': array([2.40171671, 5.58928184])},\n",
       " 8: {'points': [8], 'center': array([-6.37788295,  5.52278418])},\n",
       " 9: {'points': [9], 'center': array([-6.06464804,  5.49970845])},\n",
       " 10: {'points': [10], 'center': array([-5.47359004,  5.06319399])},\n",
       " 11: {'points': [11], 'center': array([ 5.85943906, -8.38192364])},\n",
       " 12: {'points': [12], 'center': array([ 5.4307043 , -9.75956122])},\n",
       " 13: {'points': [13], 'center': array([ 0.37035023, -5.84169943])},\n",
       " 14: {'points': [14], 'center': array([-6.84333385,  4.99791661])},\n",
       " 15: {'points': [15], 'center': array([ 1.27861333, -5.30905381])},\n",
       " 16: {'points': [16], 'center': array([ 0.6303718 , -5.85493898])},\n",
       " 17: {'points': [17], 'center': array([ 1.22661251, -6.23603659])},\n",
       " 18: {'points': [18], 'center': array([ 4.46134719, -8.55668693])},\n",
       " 19: {'points': [19], 'center': array([-0.96929311, -5.99340431])},\n",
       " 20: {'points': [20], 'center': array([ 5.69192445, -9.47641249])},\n",
       " 21: {'points': [21], 'center': array([ 4.28981065, -9.44982413])},\n",
       " 22: {'points': [22], 'center': array([3.79665595, 6.64869986])},\n",
       " 23: {'points': [23], 'center': array([2.93903486, 7.36104498])},\n",
       " 24: {'points': [24], 'center': array([ 0.10284854, -5.9802091 ])}}"
      ]
     },
     "execution_count": 8,
     "metadata": {},
     "output_type": "execute_result"
    }
   ],
   "source": [
    "clusters"
   ]
  },
  {
   "cell_type": "code",
   "execution_count": 11,
   "id": "5c9b5f8d",
   "metadata": {},
   "outputs": [
    {
     "data": {
      "text/plain": [
       "array([0.69523642, 3.23270535])"
      ]
     },
     "execution_count": 11,
     "metadata": {},
     "output_type": "execute_result"
    }
   ],
   "source": [
    "X[0]"
   ]
  },
  {
   "cell_type": "code",
   "execution_count": 9,
   "id": "9c2723c3",
   "metadata": {},
   "outputs": [
    {
     "ename": "NameError",
     "evalue": "name 'g' is not defined",
     "output_type": "error",
     "traceback": [
      "\u001b[1;31m---------------------------------------------------------------------------\u001b[0m",
      "\u001b[1;31mNameError\u001b[0m                                 Traceback (most recent call last)",
      "\u001b[1;32mC:\\Users\\SHIVAM~1\\AppData\\Local\\Temp/ipykernel_13848/1093014456.py\u001b[0m in \u001b[0;36m<module>\u001b[1;34m\u001b[0m\n\u001b[1;32m----> 1\u001b[1;33m \u001b[0mg\u001b[0m\u001b[1;33m\u001b[0m\u001b[1;33m\u001b[0m\u001b[0m\n\u001b[0m",
      "\u001b[1;31mNameError\u001b[0m: name 'g' is not defined"
     ]
    }
   ],
   "source": [
    "g"
   ]
  },
  {
   "cell_type": "code",
   "execution_count": 12,
   "id": "7f3b9cef",
   "metadata": {},
   "outputs": [],
   "source": [
    "while (len(clusters) > 4):\n",
    "    ans = []\n",
    "    kk = np.array([*clusters])\n",
    "    for i in range(kk.shape[0]-1):\n",
    "        for j in range(i+1,kk.shape[0]):\n",
    "            ans.append((distance(clusters[kk[i]]['center'],clusters[kk[j]]['center']),kk[i],kk[j]))\n",
    "    ans = sorted(ans)[0]\n",
    "    clusters[ans[-2]]['points'].append(ans[-1])\n",
    "    clusters[ans[-2]]['center'] += clusters[ans[-1]]['center']\n",
    "    clusters[ans[-2]]['center'] /= 2\n",
    "    clusters.pop(ans[-1])"
   ]
  },
  {
   "cell_type": "code",
   "execution_count": 13,
   "id": "e0993764",
   "metadata": {},
   "outputs": [
    {
     "data": {
      "text/plain": [
       "{0: {'points': [0, 6, 2], 'center': array([2.26391116, 5.16150609])},\n",
       " 1: {'points': [1, 10, 5], 'center': array([-5.97834637,  5.29757898])},\n",
       " 3: {'points': [3, 20, 12, 11, 18, 4],\n",
       "  'center': array([ 5.9758113 , -9.82266724])},\n",
       " 13: {'points': [13, 16, 24, 15, 19],\n",
       "  'center': array([-0.09609213, -5.91840449])}}"
      ]
     },
     "execution_count": 13,
     "metadata": {},
     "output_type": "execute_result"
    }
   ],
   "source": [
    "clusters"
   ]
  },
  {
   "cell_type": "code",
   "execution_count": 14,
   "id": "f4bbda1b",
   "metadata": {},
   "outputs": [],
   "source": [
    "ans = np.zeros((X.shape[0]))"
   ]
  },
  {
   "cell_type": "code",
   "execution_count": 15,
   "id": "feb00414",
   "metadata": {},
   "outputs": [],
   "source": [
    "p = -1\n",
    "for i in clusters.keys():\n",
    "    p += 1\n",
    "    for j in clusters[i]['points']:\n",
    "        ans[j] = p"
   ]
  },
  {
   "cell_type": "code",
   "execution_count": 16,
   "id": "b301c54b",
   "metadata": {},
   "outputs": [],
   "source": [
    "centers = []\n",
    "for i in clusters.keys():\n",
    "    centers.append(clusters[i]['center'])"
   ]
  },
  {
   "cell_type": "code",
   "execution_count": 17,
   "id": "f8922a1d",
   "metadata": {},
   "outputs": [
    {
     "data": {
      "text/plain": [
       "[array([2.26391116, 5.16150609]),\n",
       " array([-5.97834637,  5.29757898]),\n",
       " array([ 5.9758113 , -9.82266724]),\n",
       " array([-0.09609213, -5.91840449])]"
      ]
     },
     "execution_count": 17,
     "metadata": {},
     "output_type": "execute_result"
    }
   ],
   "source": [
    "centers"
   ]
  },
  {
   "cell_type": "code",
   "execution_count": 18,
   "id": "8f85d2f0",
   "metadata": {},
   "outputs": [
    {
     "data": {
      "image/png": "[encoded data removed]",
      "text/plain": [
       "<Figure size 576x396 with 1 Axes>"
      ]
     },
     "metadata": {},
     "output_type": "display_data"
    }
   ],
   "source": [
    "plt.scatter(X[:,0],X[:,1],c = ans,cmap = plt.cm.Accent)\n",
    "for i in range(4):\n",
    "    plt.scatter(centers[i][0],centers[i][1],marker = '+',linewidths = 2,c = 'black')\n",
    "plt.show()"
   ]
  },
  {
   "cell_type": "code",
   "execution_count": null,
   "id": "bff392cb",
   "metadata": {},
   "outputs": [],
   "source": [
    "ans"
   ]
  },
  {
   "cell_type": "code",
   "execution_count": null,
   "id": "654d06a4",
   "metadata": {},
   "outputs": [],
   "source": [
    "y"
   ]
  },
  {
   "cell_type": "code",
   "execution_count": null,
   "id": "928f30ab",
   "metadata": {},
   "outputs": [],
   "source": [
    "clusters"
   ]
  },
  {
   "cell_type": "code",
   "execution_count": null,
   "id": "858c0cdd",
   "metadata": {},
   "outputs": [],
   "source": [
    "X"
   ]
  },
  {
   "cell_type": "code",
   "execution_count": null,
   "id": "852d36cc",
   "metadata": {},
   "outputs": [],
   "source": []
  }
 ],
 "metadata": {
  "kernelspec": {
   "display_name": "Python 3 (ipykernel)",
   "language": "python",
   "name": "python3"
  },
  "language_info": {
   "codemirror_mode": {
    "name": "ipython",
    "version": 3
   },
   "file_extension": ".py",
   "mimetype": "text/x-python",
   "name": "python",
   "nbconvert_exporter": "python",
   "pygments_lexer": "ipython3",
   "version": "3.7.4"
  }
 },
 "nbformat": 4,
 "nbformat_minor": 5
}
